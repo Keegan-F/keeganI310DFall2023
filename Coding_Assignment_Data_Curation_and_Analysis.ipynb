{
  "cells": [
    {
      "cell_type": "markdown",
      "source": [
        "Since I will be collecting my data via a Wikipedia API/Libraries, the one I'm using here is from the page titled \"List of United States cities by population\", for which the code calling it is written below.\n",
        "\n",
        "Here's the link to the page: https://en.wikipedia.org/wiki/List_of_United_States_cities_by_population"
      ],
      "metadata": {
        "id": "auwWUTkl8M8n"
      },
      "id": "auwWUTkl8M8n"
    },
    {
      "cell_type": "code",
      "source": [
        "pip install wikipedia-api"
      ],
      "metadata": {
        "colab": {
          "base_uri": "https://localhost:8080/"
        },
        "id": "HwaDenqbl2Rf",
        "outputId": "24c98b06-23d5-47a2-9aaf-6d9a07967216"
      },
      "id": "HwaDenqbl2Rf",
      "execution_count": 1,
      "outputs": [
        {
          "output_type": "stream",
          "name": "stdout",
          "text": [
            "Collecting wikipedia-api\n",
            "  Downloading Wikipedia_API-0.6.0-py3-none-any.whl (14 kB)\n",
            "Requirement already satisfied: requests in /usr/local/lib/python3.10/dist-packages (from wikipedia-api) (2.31.0)\n",
            "Requirement already satisfied: charset-normalizer<4,>=2 in /usr/local/lib/python3.10/dist-packages (from requests->wikipedia-api) (3.3.2)\n",
            "Requirement already satisfied: idna<4,>=2.5 in /usr/local/lib/python3.10/dist-packages (from requests->wikipedia-api) (3.6)\n",
            "Requirement already satisfied: urllib3<3,>=1.21.1 in /usr/local/lib/python3.10/dist-packages (from requests->wikipedia-api) (2.0.7)\n",
            "Requirement already satisfied: certifi>=2017.4.17 in /usr/local/lib/python3.10/dist-packages (from requests->wikipedia-api) (2023.11.17)\n",
            "Installing collected packages: wikipedia-api\n",
            "Successfully installed wikipedia-api-0.6.0\n"
          ]
        }
      ]
    },
    {
      "cell_type": "markdown",
      "source": [
        "First, install the required package to access the data via API/Libraries on Wikipedia."
      ],
      "metadata": {
        "id": "t-9jK1bs9UYY"
      },
      "id": "t-9jK1bs9UYY"
    },
    {
      "cell_type": "code",
      "source": [
        "import wikipediaapi\n",
        "wiki_wiki = wikipediaapi.Wikipedia('Coding Assignment: Data Curation and Analysis (keegan.fleigner@gmail.com)', 'en')\n",
        "\n",
        "page_py = wiki_wiki.page('List of United States cities by population')"
      ],
      "metadata": {
        "id": "WLrcUQMUl-Yj"
      },
      "id": "WLrcUQMUl-Yj",
      "execution_count": 2,
      "outputs": []
    },
    {
      "cell_type": "markdown",
      "source": [
        "Second, import the API/Libraries using the title of the Wikipedia page and indentify the title of this project (Coding Assignment: Data Curation and Analysis) as well as the language required (English = \"en\")"
      ],
      "metadata": {
        "id": "TJk-v3jw9m7U"
      },
      "id": "TJk-v3jw9m7U"
    },
    {
      "cell_type": "code",
      "source": [
        "import requests\n",
        "\n",
        "url = 'https://en.wikipedia.org/wiki/List_of_United_States_cities_by_population'\n",
        "headers = {'User-Agent': 'List of United States cities by population/0.0 (https://en.wikipedia.org/wiki/List_of_United_States_cities_by_population; keegan.fleigner@gmail.com)'}\n",
        "\n",
        "response = requests.get(url, headers=headers)"
      ],
      "metadata": {
        "id": "NNCedGi5o0qa"
      },
      "id": "NNCedGi5o0qa",
      "execution_count": 3,
      "outputs": []
    },
    {
      "cell_type": "markdown",
      "source": [
        "This is another way to import the data, which can be helpful to ensure that none is lost in the process."
      ],
      "metadata": {
        "id": "BwOhLQhu-mUv"
      },
      "id": "BwOhLQhu-mUv"
    },
    {
      "cell_type": "code",
      "source": [
        "def print_sections(sections, level=0):\n",
        "        for s in sections:\n",
        "                print(\"%s: %s - %s\" % (\"*\" * (level + 1), s.title, s.text[0:40]))\n",
        "                print_sections(s.sections, level + 1)\n",
        "\n",
        "\n",
        "print_sections(page_py.sections)"
      ],
      "metadata": {
        "colab": {
          "base_uri": "https://localhost:8080/"
        },
        "id": "BIfC23klpXLS",
        "outputId": "cc00fe64-6d97-434a-e2ae-b26ebeb0e9bb"
      },
      "id": "BIfC23klpXLS",
      "execution_count": 4,
      "outputs": [
        {
          "output_type": "stream",
          "name": "stdout",
          "text": [
            "*: 50 states and Washington, D.C. - This table lists the 333 incorporated pl\n",
            "**: Distribution - The total 2020 enumerated population of \n",
            "**: Gallery - \n",
            "*: Puerto Rico - The following table lists the five munic\n",
            "*: Other U.S. territories - As of 2023, four U.S. territories — Amer\n",
            "*: Census-designated places - The following table lists U.S. census-de\n",
            "*: Cities formerly over 100,000 people - The following table lists U.S. cities th\n",
            "*: Locations of 50 most populous cities - \n",
            "*: See also - Demographics of the United States\n",
            "Larges\n",
            "*: Notes - \n",
            "*: References - \n",
            "*: External links - \n",
            "United States Government\n",
            "United States \n"
          ]
        }
      ]
    },
    {
      "cell_type": "markdown",
      "source": [
        "Now that the data has been imported, it's good to first print out the sections from the Wikipedia page to confirm that this was a success, though only the first few text characters are necessary to see."
      ],
      "metadata": {
        "id": "IkUR3Bwi-4kS"
      },
      "id": "IkUR3Bwi-4kS"
    },
    {
      "cell_type": "code",
      "source": [
        "section_history = page_py.section_by_title('50 states and Washington, D.C.')\n",
        "print(\"%s - %s\" % (section_history.title, section_history.text[0:40]))"
      ],
      "metadata": {
        "colab": {
          "base_uri": "https://localhost:8080/"
        },
        "id": "ZqMlI4aTrDHl",
        "outputId": "85b63bd9-5d83-4f14-e4b5-b0e567052242"
      },
      "id": "ZqMlI4aTrDHl",
      "execution_count": 5,
      "outputs": [
        {
          "output_type": "stream",
          "name": "stdout",
          "text": [
            "50 states and Washington, D.C. - This table lists the 333 incorporated pl\n"
          ]
        }
      ]
    },
    {
      "cell_type": "markdown",
      "source": [
        "Once the page is confirmed to have been imported intact, it's then good to check the individual section that contains the data being intended for use here."
      ],
      "metadata": {
        "id": "NHJ5NraY_ZgJ"
      },
      "id": "NHJ5NraY_ZgJ"
    },
    {
      "cell_type": "code",
      "source": [
        "pip install beautifulsoup4"
      ],
      "metadata": {
        "colab": {
          "base_uri": "https://localhost:8080/"
        },
        "id": "4SSNP_MNuTC3",
        "outputId": "37ce8c45-0652-4a0a-d838-42f007c99dec"
      },
      "id": "4SSNP_MNuTC3",
      "execution_count": 6,
      "outputs": [
        {
          "output_type": "stream",
          "name": "stdout",
          "text": [
            "Requirement already satisfied: beautifulsoup4 in /usr/local/lib/python3.10/dist-packages (4.11.2)\n",
            "Requirement already satisfied: soupsieve>1.2 in /usr/local/lib/python3.10/dist-packages (from beautifulsoup4) (2.5)\n"
          ]
        }
      ]
    },
    {
      "cell_type": "markdown",
      "source": [
        "Now that the data has been imported and found, it's time to clean it, first by installing the package to do it."
      ],
      "metadata": {
        "id": "fMSYuLLF_zUY"
      },
      "id": "fMSYuLLF_zUY"
    },
    {
      "cell_type": "code",
      "source": [
        "from bs4 import BeautifulSoup\n",
        "import pandas as pd"
      ],
      "metadata": {
        "id": "W6LZhUnyvs_W"
      },
      "id": "W6LZhUnyvs_W",
      "execution_count": 7,
      "outputs": []
    },
    {
      "cell_type": "markdown",
      "source": [
        "Make sure to import pandas for reading and converting the data to a csv before and after its been cleaned."
      ],
      "metadata": {
        "id": "cq7q256TAG1q"
      },
      "id": "cq7q256TAG1q"
    },
    {
      "cell_type": "code",
      "source": [
        "wikiurl=\"https://en.wikipedia.org/wiki/List_of_United_States_cities_by_population\"\n",
        "table_class=\"wikitable sortable jquery-tablesorter\"\n",
        "response2=requests.get(wikiurl)\n",
        "print(response2.status_code)"
      ],
      "metadata": {
        "colab": {
          "base_uri": "https://localhost:8080/"
        },
        "id": "VkDR9sjTv_NO",
        "outputId": "ecd6e1f0-5f44-4215-c3ee-a8c1ca0f994d"
      },
      "id": "VkDR9sjTv_NO",
      "execution_count": 8,
      "outputs": [
        {
          "output_type": "stream",
          "name": "stdout",
          "text": [
            "200\n"
          ]
        }
      ]
    },
    {
      "cell_type": "markdown",
      "source": [
        "Before reading the data, run a test of the status code to make sure it's okay to use it."
      ],
      "metadata": {
        "id": "bSCtNOukAUnT"
      },
      "id": "bSCtNOukAUnT"
    },
    {
      "cell_type": "code",
      "source": [
        "soup = BeautifulSoup(response2.text, 'html.parser')\n",
        "indiatable=soup.find('table',{'class':\"wikitable sortable\"})"
      ],
      "metadata": {
        "id": "MntvMDESwVvw"
      },
      "id": "MntvMDESwVvw",
      "execution_count": 9,
      "outputs": []
    },
    {
      "cell_type": "markdown",
      "source": [
        "Now that the data has been cleared, it's time to scrape it from the Wikipedia page."
      ],
      "metadata": {
        "id": "-T96PnBOA1ux"
      },
      "id": "-T96PnBOA1ux"
    },
    {
      "cell_type": "code",
      "source": [
        "df=pd.read_html(str(indiatable))\n",
        "df=pd.DataFrame(df[0])\n",
        "print(df.head())"
      ],
      "metadata": {
        "colab": {
          "base_uri": "https://localhost:8080/"
        },
        "id": "pgmAx9nRzPtJ",
        "outputId": "2b9f0815-c80d-45de-ebad-9678d2c7fbe9"
      },
      "id": "pgmAx9nRzPtJ",
      "execution_count": 10,
      "outputs": [
        {
          "output_type": "stream",
          "name": "stdout",
          "text": [
            "   2022 rank         City    State[c]  2022 estimate  2020 census  Change  \\\n",
            "0          1  New York[d]    New York        8335897      8804190  −5.32%   \n",
            "1          2  Los Angeles  California        3822238      3898747  −1.96%   \n",
            "2          3      Chicago    Illinois        2665039      2746388  −2.96%   \n",
            "3          4      Houston       Texas        2302878      2304580  −0.07%   \n",
            "4          5      Phoenix     Arizona        1644409      1608139  +2.26%   \n",
            "\n",
            "  2020 land area 2020 land area.1 2020 population density  \\\n",
            "0    300.5 sq mi        778.3 km2            29,298/sq mi   \n",
            "1    469.5 sq mi      1,216.0 km2             8,304/sq mi   \n",
            "2    227.7 sq mi        589.7 km2            12,061/sq mi   \n",
            "3    640.4 sq mi      1,658.6 km2             3,599/sq mi   \n",
            "4    518.0 sq mi      1,341.6 km2             3,105/sq mi   \n",
            "\n",
            "  2020 population density.1                                           Location  \n",
            "0                11,312/km2  .mw-parser-output .geo-default,.mw-parser-outp...  \n",
            "1                 3,206/km2              34°01′N 118°25′W﻿ / ﻿34.02°N 118.41°W  \n",
            "2                 4,657/km2                41°50′N 87°41′W﻿ / ﻿41.84°N 87.68°W  \n",
            "3                 1,390/km2                29°47′N 95°23′W﻿ / ﻿29.79°N 95.39°W  \n",
            "4                 1,199/km2              33°34′N 112°05′W﻿ / ﻿33.57°N 112.09°W  \n"
          ]
        }
      ]
    },
    {
      "cell_type": "markdown",
      "source": [
        "Once the data's been scraped, print it out to confirm this."
      ],
      "metadata": {
        "id": "6MSDKeGcBP7w"
      },
      "id": "6MSDKeGcBP7w"
    },
    {
      "cell_type": "code",
      "source": [
        "df.to_csv('largest_us_cities_raw.csv')"
      ],
      "metadata": {
        "id": "xaB-xtLl6STE"
      },
      "id": "xaB-xtLl6STE",
      "execution_count": 11,
      "outputs": []
    },
    {
      "cell_type": "markdown",
      "source": [
        "After confirmation that the raw data has been thoroughly scraped, make a csv of it as a copy for your records in case the processed data encoutners any issues."
      ],
      "metadata": {
        "id": "KGzhiqDyBd5-"
      },
      "id": "KGzhiqDyBd5-"
    },
    {
      "cell_type": "code",
      "source": [
        "data = df.drop([\"2022 rank\", \"State[c]\", \"Location\"], axis=1)\n",
        "data = data.rename(columns={\"2022 estimate\": \"Population (2022)\", \"2020 census\": \"Population (2020)\", \"2020 land area\": \"Land Area (sq mi)\", \"2020 population density\": \"Population Density (sq mi)\", \"2020 land area.1\": \"Land Area (km2)\", \"2020 population density.1\": \"Population Density (km2)\"})\n",
        "data.info"
      ],
      "metadata": {
        "colab": {
          "base_uri": "https://localhost:8080/"
        },
        "id": "4Ohy_CPt31WM",
        "outputId": "3354258c-c991-405a-ff20-2ad6e8d1c786"
      },
      "id": "4Ohy_CPt31WM",
      "execution_count": 14,
      "outputs": [
        {
          "output_type": "execute_result",
          "data": {
            "text/plain": [
              "<bound method DataFrame.info of             City  Population (2022)  Population (2020)  Change  \\\n",
              "0    New York[d]            8335897            8804190  −5.32%   \n",
              "1    Los Angeles            3822238            3898747  −1.96%   \n",
              "2        Chicago            2665039            2746388  −2.96%   \n",
              "3        Houston            2302878            2304580  −0.07%   \n",
              "4        Phoenix            1644409            1608139  +2.26%   \n",
              "..           ...                ...                ...     ...   \n",
              "328       Albany             100826              99224  +1.61%   \n",
              "329     Hesperia             100744              99818  +0.93%   \n",
              "330  New Bedford             100682             101079  −0.39%   \n",
              "331    Davenport             100486             101724  −1.22%   \n",
              "332    Daly City             100007             104901  −4.67%   \n",
              "\n",
              "    Land Area (sq mi) Land Area (km2) Population Density (sq mi)  \\\n",
              "0         300.5 sq mi       778.3 km2               29,298/sq mi   \n",
              "1         469.5 sq mi     1,216.0 km2                8,304/sq mi   \n",
              "2         227.7 sq mi       589.7 km2               12,061/sq mi   \n",
              "3         640.4 sq mi     1,658.6 km2                3,599/sq mi   \n",
              "4         518.0 sq mi     1,341.6 km2                3,105/sq mi   \n",
              "..                ...             ...                        ...   \n",
              "328        21.4 sq mi        55.4 km2                4,637/sq mi   \n",
              "329        72.7 sq mi       188.3 km2                1,373/sq mi   \n",
              "330        20.0 sq mi        51.8 km2                5,054/sq mi   \n",
              "331        63.8 sq mi       165.2 km2                1,594/sq mi   \n",
              "332         7.6 sq mi        19.7 km2               13,803/sq mi   \n",
              "\n",
              "    Population Density (km2)  \n",
              "0                 11,312/km2  \n",
              "1                  3,206/km2  \n",
              "2                  4,657/km2  \n",
              "3                  1,390/km2  \n",
              "4                  1,199/km2  \n",
              "..                       ...  \n",
              "328                1,790/km2  \n",
              "329                  530/km2  \n",
              "330                1,951/km2  \n",
              "331                  615/km2  \n",
              "332                5,329/km2  \n",
              "\n",
              "[333 rows x 8 columns]>"
            ]
          },
          "metadata": {},
          "execution_count": 14
        }
      ]
    },
    {
      "cell_type": "markdown",
      "source": [
        "Now that the raw data has been saved, it can be processed by dropping columns that are uneccessary and renaming others to better reflect the meaning of the data within them. Print the data out once this is completed to confirm that it worked."
      ],
      "metadata": {
        "id": "e2K_BjJSB5H7"
      },
      "id": "e2K_BjJSB5H7"
    },
    {
      "cell_type": "code",
      "source": [
        "data.to_csv('largest_us_cities.csv')"
      ],
      "metadata": {
        "id": "JVzV05hC5wpM"
      },
      "id": "JVzV05hC5wpM",
      "execution_count": 15,
      "outputs": []
    },
    {
      "cell_type": "markdown",
      "source": [
        "Once the data has been processed, it can then be converted into a csv in order to be able to use it for further analysis from other sources."
      ],
      "metadata": {
        "id": "tMF7reJNCqC8"
      },
      "id": "tMF7reJNCqC8"
    },
    {
      "cell_type": "markdown",
      "source": [
        "As a brief analysis of what's been obtained so far, this data contains information on the largest cities (by population) in the United States and has them listed from largest to smallest along with each city's population in 2022 and 2020, the change in population between those years as a percentage, the total land area in both square miles and kilometers, and the population density (in 2020) also in square miles and kilometers."
      ],
      "metadata": {
        "id": "02fiBlrVDdXV"
      },
      "id": "02fiBlrVDdXV"
    },
    {
      "cell_type": "markdown",
      "source": [
        "Furthermore, here are the two types of variables listed in the columns:\n",
        "\n",
        "Categorical (strings): City\n",
        "\n",
        "Numerical (int, float): Population (2022), Population (2020), Change, Land Area (sq mi), Land Area (km2), Population Density (sq mi), Population Density (km2)"
      ],
      "metadata": {
        "id": "JKoGNOxyv2LZ"
      },
      "id": "JKoGNOxyv2LZ"
    },
    {
      "cell_type": "code",
      "source": [
        "largest_us_cities_df = pd.read_csv(\"largest_us_cities.csv\")"
      ],
      "metadata": {
        "id": "tezNO3SP6eWN"
      },
      "id": "tezNO3SP6eWN",
      "execution_count": 16,
      "outputs": []
    },
    {
      "cell_type": "markdown",
      "source": [
        "Now that the data has been saved into a csv, it can be used to start directly analyzing and looking for trends and comparisons between variables in it."
      ],
      "metadata": {
        "id": "QwYiSG9RxZtP"
      },
      "id": "QwYiSG9RxZtP"
    },
    {
      "cell_type": "code",
      "source": [
        "land_area = largest_us_cities_df[\"Land Area (sq mi)\"]\n",
        "print (land_area)"
      ],
      "metadata": {
        "colab": {
          "base_uri": "https://localhost:8080/"
        },
        "id": "mJHnuvGjxaIO",
        "outputId": "f7228251-d577-4721-ea90-e7f935c20091"
      },
      "id": "mJHnuvGjxaIO",
      "execution_count": 17,
      "outputs": [
        {
          "output_type": "stream",
          "name": "stdout",
          "text": [
            "0      300.5 sq mi\n",
            "1      469.5 sq mi\n",
            "2      227.7 sq mi\n",
            "3      640.4 sq mi\n",
            "4      518.0 sq mi\n",
            "          ...     \n",
            "328     21.4 sq mi\n",
            "329     72.7 sq mi\n",
            "330     20.0 sq mi\n",
            "331     63.8 sq mi\n",
            "332      7.6 sq mi\n",
            "Name: Land Area (sq mi), Length: 333, dtype: object\n"
          ]
        }
      ]
    },
    {
      "cell_type": "code",
      "source": [
        "change = largest_us_cities_df[\"Change\"]\n",
        "print (change)"
      ],
      "metadata": {
        "colab": {
          "base_uri": "https://localhost:8080/"
        },
        "id": "LSbnhsJsyeWH",
        "outputId": "1ad58e20-7724-4440-9a89-d312d711348c"
      },
      "id": "LSbnhsJsyeWH",
      "execution_count": 21,
      "outputs": [
        {
          "output_type": "stream",
          "name": "stdout",
          "text": [
            "0      −5.32%\n",
            "1      −1.96%\n",
            "2      −2.96%\n",
            "3      −0.07%\n",
            "4      +2.26%\n",
            "        ...  \n",
            "328    +1.61%\n",
            "329    +0.93%\n",
            "330    −0.39%\n",
            "331    −1.22%\n",
            "332    −4.67%\n",
            "Name: Change, Length: 333, dtype: object\n"
          ]
        }
      ]
    },
    {
      "cell_type": "markdown",
      "source": [
        "Before looking for any trends, it's important to first decide which variables to analyze and isolate them into singular lists, which has been done for the variables \"Change\" and \"Land Area (sq mi)\" above."
      ],
      "metadata": {
        "id": "f4KUjnnpxxW7"
      },
      "id": "f4KUjnnpxxW7"
    },
    {
      "cell_type": "code",
      "source": [
        "land_area.describe()"
      ],
      "metadata": {
        "colab": {
          "base_uri": "https://localhost:8080/"
        },
        "id": "2x3wElbjxxwt",
        "outputId": "098def4a-6da7-4383-f51b-95478c39dc44"
      },
      "id": "2x3wElbjxxwt",
      "execution_count": 18,
      "outputs": [
        {
          "output_type": "execute_result",
          "data": {
            "text/plain": [
              "count            333\n",
              "unique           301\n",
              "top       23.5 sq mi\n",
              "freq               3\n",
              "Name: Land Area (sq mi), dtype: object"
            ]
          },
          "metadata": {},
          "execution_count": 18
        }
      ]
    },
    {
      "cell_type": "code",
      "source": [
        "change.describe()"
      ],
      "metadata": {
        "colab": {
          "base_uri": "https://localhost:8080/"
        },
        "id": "IFLCMz_Vyaf2",
        "outputId": "cc428f49-2ce3-40ae-a9a6-64887cb02436"
      },
      "id": "IFLCMz_Vyaf2",
      "execution_count": 22,
      "outputs": [
        {
          "output_type": "execute_result",
          "data": {
            "text/plain": [
              "count        333\n",
              "unique       280\n",
              "top       +0.38%\n",
              "freq           3\n",
              "Name: Change, dtype: object"
            ]
          },
          "metadata": {},
          "execution_count": 22
        }
      ]
    },
    {
      "cell_type": "markdown",
      "source": [
        "Now that the variables have been insolated, it's then a good idea to search for descriptive stats within each of them, for which the number of values overall, the number of unique values, the most common result, and the frequency of that result are revealed."
      ],
      "metadata": {
        "id": "MwDM0fkGyqvS"
      },
      "id": "MwDM0fkGyqvS"
    },
    {
      "cell_type": "markdown",
      "source": [
        "After analyzing the descriptive stats of the variables, it's time to put them up as visualizations. First, it's good to analyze each of them individually before putting them together, so that's why there are two histograms, each for one variable, illustrated below."
      ],
      "metadata": {
        "id": "C1dXUCS4JiRI"
      },
      "id": "C1dXUCS4JiRI"
    },
    {
      "cell_type": "code",
      "source": [
        "land_area.hist(bins=30)"
      ],
      "metadata": {
        "colab": {
          "base_uri": "https://localhost:8080/",
          "height": 447
        },
        "id": "E3KIoaspysa1",
        "outputId": "702af931-c7a0-46f0-e612-c197ae2325bf"
      },
      "id": "E3KIoaspysa1",
      "execution_count": 55,
      "outputs": [
        {
          "output_type": "execute_result",
          "data": {
            "text/plain": [
              "<Axes: >"
            ]
          },
          "metadata": {},
          "execution_count": 55
        },
        {
          "output_type": "display_data",
          "data": {
            "text/plain": [
              "<Figure size 640x480 with 1 Axes>"
            ],
            "image/png": "[encoded data removed]"
          },
          "metadata": {}
        }
      ]
    },
    {
      "cell_type": "markdown",
      "source": [
        "In the first histogram, which concerns the land area of cities, the results are fairly evenly balanced regarding how many times the areas of cities are similar to each other at different population levels. However, it's noticeable that there are more placed toward the center of the histogram, where the land area is medium-sized compared to all the cities included in the data, which means the data is likely approximately normal."
      ],
      "metadata": {
        "id": "64ZNc1LDOl9j"
      },
      "id": "64ZNc1LDOl9j"
    },
    {
      "cell_type": "code",
      "source": [
        "change.hist(bins=20)"
      ],
      "metadata": {
        "colab": {
          "base_uri": "https://localhost:8080/",
          "height": 447
        },
        "id": "HzD0WMqpzCqB",
        "outputId": "e09d8609-e25b-4bb4-f979-6008888494ea"
      },
      "id": "HzD0WMqpzCqB",
      "execution_count": 46,
      "outputs": [
        {
          "output_type": "execute_result",
          "data": {
            "text/plain": [
              "<Axes: >"
            ]
          },
          "metadata": {},
          "execution_count": 46
        },
        {
          "output_type": "display_data",
          "data": {
            "text/plain": [
              "<Figure size 640x480 with 1 Axes>"
            ],
            "image/png": "[encoded data removed]"
          },
          "metadata": {}
        }
      ]
    },
    {
      "cell_type": "markdown",
      "source": [
        "In the second histogram, which concerns the change in population from 2020-2022, the results are more skewed to the right here as there are more instances of cities losing population instead of gaining it. This would indicate that more people are moving out of cities than into them recently, which is interesting to see."
      ],
      "metadata": {
        "id": "I6FDHb2UOgrO"
      },
      "id": "I6FDHb2UOgrO"
    },
    {
      "cell_type": "code",
      "source": [
        "from matplotlib import pyplot as plt"
      ],
      "metadata": {
        "id": "aYpxJ5Sc1e5f"
      },
      "id": "aYpxJ5Sc1e5f",
      "execution_count": 47,
      "outputs": []
    },
    {
      "cell_type": "markdown",
      "source": [
        "Before analyzing the variables together, pyplot needs to be imported from the package matplotlib to be able to use the graphs necessary for this."
      ],
      "metadata": {
        "id": "7CRPfqwKzOOc"
      },
      "id": "7CRPfqwKzOOc"
    },
    {
      "cell_type": "code",
      "source": [
        "change_column = largest_us_cities_df[\"Change\"]\n",
        "land_area_column = largest_us_cities_df[\"Land Area (sq mi)\"]\n",
        "\n",
        "plt.scatter(change_column, land_area_column, marker=\"o\")\n",
        "\n",
        "plt.xlabel(\"Change (%)\")\n",
        "plt.ylabel(\"Land Area (sq mi)\")\n",
        "\n",
        "plt.title(\"Population Change from 2020-2022 vs. Land Area in square miles\")"
      ],
      "metadata": {
        "colab": {
          "base_uri": "https://localhost:8080/",
          "height": 489
        },
        "id": "-6N-IkpNIxM_",
        "outputId": "2ac19026-c0aa-46fb-dce5-a72f1ab1a2bb"
      },
      "id": "-6N-IkpNIxM_",
      "execution_count": 56,
      "outputs": [
        {
          "output_type": "execute_result",
          "data": {
            "text/plain": [
              "Text(0.5, 1.0, 'Population Change from 2020-2022 vs. Land Area in square miles')"
            ]
          },
          "metadata": {},
          "execution_count": 56
        },
        {
          "output_type": "display_data",
          "data": {
            "text/plain": [
              "<Figure size 640x480 with 1 Axes>"
            ],
            "image/png": "[encoded data removed]"
          },
          "metadata": {}
        }
      ]
    },
    {
      "cell_type": "markdown",
      "source": [
        "In order to combine the variables \"Change\" and \"Land Area (sq mi)\" together, it's best to use a scatter plot here. In it, the main trend is that as the land area of a city increases, so does the percentage of its population that doesn't leave and/or moves in. However, there also tends to be more instances where cities with greater land areas still lose more of their population than expected at the same time."
      ],
      "metadata": {
        "id": "KbmV3Crtz4DJ"
      },
      "id": "KbmV3Crtz4DJ"
    }
  ],
  "metadata": {
    "kernelspec": {
      "display_name": "Python 3 (ipykernel)",
      "language": "python",
      "name": "python3"
    },
    "language_info": {
      "codemirror_mode": {
        "name": "ipython",
        "version": 3
      },
      "file_extension": ".py",
      "mimetype": "text/x-python",
      "name": "python",
      "nbconvert_exporter": "python",
      "pygments_lexer": "ipython3",
      "version": "3.10.9"
    },
    "colab": {
      "provenance": []
    }
  },
  "nbformat": 4,
  "nbformat_minor": 5
}